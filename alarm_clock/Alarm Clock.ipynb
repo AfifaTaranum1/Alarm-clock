{
 "cells": [
  {
   "cell_type": "code",
   "execution_count": 3,
   "id": "1c311f82",
   "metadata": {},
   "outputs": [],
   "source": [
    "import time\n",
    "import winsound\n",
    "from tkinter import messagebox, Tk, Label, Entry, Button\n",
    "from tkinter import ttk\n",
    "from tkinter import *\n",
    "from PIL import ImageTk, Image\n",
    "\n",
    "def message1(entry1, label3):\n",
    "    Alarmtimelabel = entry1.get()\n",
    "    label3.config(text='The alarm time is counting..')\n",
    "    messagebox.showinfo(\"Alarm Clock\", f\"The Alarm time is :{Alarmtimelabel}\")\n",
    "\n",
    "def submit(entry1, entry2, label3):\n",
    "    Alarmtime = entry1.get()\n",
    "    message1(entry1, label3)\n",
    "    currenttime = time.strftime(\"%H:%M\")\n",
    "    alarmmessage = entry2.get()\n",
    "    print(f\"The Alarm time is: {Alarmtime}\")\n",
    "\n",
    "    while Alarmtime != currenttime:\n",
    "        currenttime = time.strftime(\"%H:%M\")\n",
    "        time.sleep(1)\n",
    "        if Alarmtime == currenttime:\n",
    "            print(\"playing Alarm sound...\")\n",
    "            winsound.PlaySound(\"*\", winsound.SND_ALIAS | winsound.SND_ASYNC)\n",
    "            label3.config(text=\"Wake up song >>>\")\n",
    "            messagebox.showinfo(\"Alarm message\", f\": {alarmmessage}\")\n",
    "\n",
    "# Create the main window\n",
    "root = Tk()\n",
    "root.title(\"Alarm Clock\")\n",
    "root.geometry(\"500x400\")\n",
    "\n",
    "\n",
    "image = Image.open('Screenshot 2023-12-20 164300.png')\n",
    "photo = ImageTk.PhotoImage(image)\n",
    "a_Label=Label(image=photo)\n",
    "a_Label.pack()\n",
    "\n",
    "\n",
    "# Create and pack GUI elements\n",
    "ttk.Label(root, text=\"Enter Alarm Time (HH:MM):\",font=(\"comic sans\",15),width=22).place(x=10,y=50)\n",
    "\n",
    "#a=ttk.Entry(window, font=(\"Times New Roman\", 14), width=25)\n",
    "#a.place(x=250,y=40)\n",
    "\n",
    "a =ttk.Entry(root,font=(\"comic sans\",15),width=10)\n",
    "a.place(x=60,y=90)\n",
    "\n",
    "ttk.Label(root, text=\"Alarm Message:\",font=(\"comic sans\",14)).place(x=40,y=130)\n",
    "\n",
    "b =ttk.Entry(root,font=(\"comic sans\",15),width=20)\n",
    "b.place(x=15,y=170)\n",
    "\n",
    "label3 = Label(root, text=\"\")\n",
    "label3.pack()\n",
    "\n",
    "submit_button = ttk.Button(root, text=\"Submit\",width=15,command=lambda: submit(a, b, label3))\n",
    "submit_button.place(x=70,y=250)\n",
    "\n",
    "# Run the main loop\n",
    "root.mainloop()\n"
   ]
  },
  {
   "cell_type": "code",
   "execution_count": 1,
   "id": "c21022ed",
   "metadata": {},
   "outputs": [
    {
     "data": {
      "text/plain": [
      
      ]
     },
     "execution_count": 1,
     "metadata": {},
     "output_type": "execute_result"
    }
   ],
   "source": [
    
   ]
  },
  {
   "cell_type": "code",
   "execution_count": null,
   "id": "792142ba",
   "metadata": {},
   "outputs": [],
   "source": []
  }
 ],
 "metadata": {
  "kernelspec": {
   "display_name": "Python 3 (ipykernel)",
   "language": "python",
   "name": "python3"
  },
  "language_info": {
   "codemirror_mode": {
    "name": "ipython",
    "version": 3
   },
   "file_extension": ".py",
   "mimetype": "text/x-python",
   "name": "python",
   "nbconvert_exporter": "python",
   "pygments_lexer": "ipython3",
   "version": "3.9.13"
  }
 },
 "nbformat": 4,
 "nbformat_minor": 5
}
